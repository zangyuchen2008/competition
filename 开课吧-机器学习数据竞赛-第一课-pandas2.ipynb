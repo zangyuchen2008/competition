{
 "cells": [
  {
   "cell_type": "markdown",
   "metadata": {},
   "source": [
    "读取数据"
   ]
  },
  {
   "cell_type": "code",
   "execution_count": null,
   "metadata": {},
   "outputs": [],
   "source": [
    "pd.read_csv(filename) # 从CSV文件导入数据\n",
    "pd.read_table(filename) # 从限定分隔符的文本文件导入数据\n",
    "pd.read_excel(filename) # 从Excel文件导入数据\n",
    "pd.read_sql(query, connection_object) # 从SQL表/库导入数据\n",
    "pd.read_json(json_string) # 从JSON格式的字符串导入数据\n",
    "pd.read_html(url) # 解析URL、字符串或者HTML文件，抽取其中的tables表格\n",
    "pd.read_clipboard() # 从你的粘贴板获取内容，并传给read_table()\n",
    "pd.DataFrame(dict) # 从字典对象导入数据，Key是列名，Value是数据"
   ]
  },
  {
   "cell_type": "markdown",
   "metadata": {},
   "source": [
    "导出数据"
   ]
  },
  {
   "cell_type": "code",
   "execution_count": null,
   "metadata": {},
   "outputs": [],
   "source": [
    "df.to_csv(filename) # 导出数据到CSV文件\n",
    "df.to_excel(filename) # 导出数据到Excel文件\n",
    "df.to_sql(table_name, connection_object) # 导出数据到SQL表\n",
    "df.to_json(filename) # 以Json格式导出数据到文本文件"
   ]
  },
  {
   "cell_type": "markdown",
   "metadata": {},
   "source": [
    "查看数据"
   ]
  },
  {
   "cell_type": "code",
   "execution_count": null,
   "metadata": {},
   "outputs": [],
   "source": [
    "df.head(n) # 查看DataFrame对象的前n行\n",
    "df.tail(n) # 查看DataFrame对象的最后n行\n",
    "df.shape() # 查看行数和列数\n",
    "df.info() # 查看索引、数据类型和内存信息\n",
    "df.describe()# 查看数值型列的汇总统计\n",
    "s.value_counts(dropna=False) # 查看Series对象的唯一值和计数\n",
    "df.apply(pd.Series.value_counts) # 查看DataFrame对象中每一列的唯一值和计数"
   ]
  },
  {
   "cell_type": "markdown",
   "metadata": {},
   "source": [
    "数据选取"
   ]
  },
  {
   "cell_type": "code",
   "execution_count": null,
   "metadata": {},
   "outputs": [],
   "source": [
    "df[col] # 根据列名，并以Series的形式返回列\n",
    "df[[col1, col2]] # 以DataFrame形式返回多列 \n",
    "\n",
    "df.iloc[0] # 按位置选取数据\n",
    "df.loc['index_one'] # 按索引选取数据\n",
    "df.iloc[0,:] # 返回第一行\n",
    "df.iloc[0,0] # 返回第一列的第一个元素"
   ]
  },
  {
   "cell_type": "markdown",
   "metadata": {},
   "source": [
    "数据统计"
   ]
  },
  {
   "cell_type": "code",
   "execution_count": null,
   "metadata": {},
   "outputs": [],
   "source": [
    "df.describe() # 查看数据值列的汇总统计\n",
    "df.mean() # 返回所有列的均值\n",
    "df.corr() # 返回列与列之间的相关系数\n",
    "df.count() # 返回每一列中的非空值的个数\n",
    "df.max() # 返回每一列的最大值\n",
    "df.min() # 返回每一列的最小值\n",
    "df.median() # 返回每一列的中位数\n",
    "df.std() # 返回每一列的标准差"
   ]
  },
  {
   "cell_type": "markdown",
   "metadata": {},
   "source": [
    "数据合并"
   ]
  },
  {
   "cell_type": "code",
   "execution_count": null,
   "metadata": {},
   "outputs": [],
   "source": [
    "df1.append(df2) # 将df2中的行添加到df1的尾部\n",
    "df.concat([df1, df2],axis=1) # 将df2中的列添加到df1的尾部\n",
    "df1.join(df2,on=col1,how='inner') # 对df1的列和df2的列执行SQL形式的join"
   ]
  },
  {
   "cell_type": "markdown",
   "metadata": {},
   "source": [
    "数据清理"
   ]
  },
  {
   "cell_type": "code",
   "execution_count": null,
   "metadata": {},
   "outputs": [],
   "source": [
    "df[df[col] > 0.5] # 选择col列的值大于0.5的行\n",
    "df.sort_values(col1) # 按照列col1排序数据，默认升序排列\n",
    "df.sort_values(col2, ascending=False) # 按照列col1降序排列数据\n",
    "df.sort_values([col1,col2], ascending=[True,False]) # 先按列col1升序排列，后按col2降序排列数据\n",
    "df.groupby(col) # 返回一个按列col进行分组的Groupby对象\n",
    "df.groupby([col1,col2]) # 返回一个按多列进行分组的Groupby对象\n",
    "df.groupby(col1)[col2] # 返回按列col1进行分组后，列col2的均值\n",
    "df.pivot_table(index=col1, values=[col2,col3], aggfunc=max) # 创建一个按列col1进行分组，并计算col2和col3的最大值的数据透视表\n",
    "df.groupby(col1).agg(np.mean) # 返回按列col1分组的所有列的均值\n",
    "data.apply(np.mean) # 对DataFrame中的每一列应用函数np.mean\n",
    "data.apply(np.max,axis=1) # 对DataFrame中的每一行应用函数np.max"
   ]
  },
  {
   "cell_type": "code",
   "execution_count": null,
   "metadata": {},
   "outputs": [],
   "source": [
    "http://www.cnblogs.com/xiaoxuebiye/p/7223774.html"
   ]
  },
  {
   "cell_type": "markdown",
   "metadata": {},
   "source": [
    "##### 内存回收"
   ]
  },
  {
   "cell_type": "code",
   "execution_count": 1,
   "metadata": {},
   "outputs": [],
   "source": [
    "import gc"
   ]
  },
  {
   "cell_type": "code",
   "execution_count": 2,
   "metadata": {},
   "outputs": [
    {
     "data": {
      "text/plain": [
       "14"
      ]
     },
     "execution_count": 2,
     "metadata": {},
     "output_type": "execute_result"
    }
   ],
   "source": [
    "a = ['a larger variable']\n",
    "del a\n",
    "gc.collect()"
   ]
  },
  {
   "cell_type": "code",
   "execution_count": 3,
   "metadata": {},
   "outputs": [
    {
     "name": "stdout",
     "output_type": "stream",
     "text": [
      "Requirement already satisfied: tqdm in c:\\programdata\\anaconda3\\lib\\site-packages (4.26.0)\n"
     ]
    },
    {
     "name": "stderr",
     "output_type": "stream",
     "text": [
      "You are using pip version 10.0.1, however version 20.0.2 is available.\n",
      "You should consider upgrading via the 'python -m pip install --upgrade pip' command.\n"
     ]
    }
   ],
   "source": [
    "!pip install tqdm"
   ]
  },
  {
   "cell_type": "code",
   "execution_count": 4,
   "metadata": {},
   "outputs": [],
   "source": [
    "import tqdm"
   ]
  },
  {
   "cell_type": "code",
   "execution_count": 5,
   "metadata": {},
   "outputs": [],
   "source": [
    "from tqdm import tqdm\n",
    "from tqdm import tqdm_notebook"
   ]
  },
  {
   "cell_type": "code",
   "execution_count": 12,
   "metadata": {},
   "outputs": [
    {
     "name": "stderr",
     "output_type": "stream",
     "text": [
      "100%|██████████████████████████████████████████████████████████████████████████████████████| 1000/1000 [00:00<?, ?it/s]\n"
     ]
    }
   ],
   "source": [
    "for i in tqdm(range(0,1000)):\n",
    "    a=i**2"
   ]
  },
  {
   "cell_type": "code",
   "execution_count": 13,
   "metadata": {},
   "outputs": [
    {
     "name": "stdout",
     "output_type": "stream",
     "text": [
      "Collecting lightgbm\n",
      "  Downloading https://files.pythonhosted.org/packages/1f/cb/a8ec24334c35a7d0c87b4e4e056bd2137573c7c1bd81c760b79a2f370254/lightgbm-2.3.1-py2.py3-none-win_amd64.whl (544kB)\n",
      "Requirement already satisfied: scipy in c:\\programdata\\anaconda3\\lib\\site-packages (from lightgbm) (1.1.0)\n",
      "Requirement already satisfied: scikit-learn in c:\\programdata\\anaconda3\\lib\\site-packages (from lightgbm) (0.21.3)\n",
      "Requirement already satisfied: numpy in d:\\sgmuserprofile\\sjbgwk\\appdata\\roaming\\python\\python37\\site-packages (from lightgbm) (1.17.0)\n",
      "Requirement already satisfied: joblib>=0.11 in c:\\programdata\\anaconda3\\lib\\site-packages (from scikit-learn->lightgbm) (0.13.2)\n",
      "Installing collected packages: lightgbm\n",
      "Successfully installed lightgbm-2.3.1\n"
     ]
    },
    {
     "name": "stderr",
     "output_type": "stream",
     "text": [
      "You are using pip version 10.0.1, however version 20.0.2 is available.\n",
      "You should consider upgrading via the 'python -m pip install --upgrade pip' command.\n"
     ]
    }
   ],
   "source": [
    "!pip install lightgbm"
   ]
  },
  {
   "cell_type": "code",
   "execution_count": 14,
   "metadata": {},
   "outputs": [],
   "source": [
    "import lightgbm as lgb"
   ]
  },
  {
   "cell_type": "code",
   "execution_count": 17,
   "metadata": {},
   "outputs": [
    {
     "name": "stdout",
     "output_type": "stream",
     "text": [
      "Collecting xgboost\n",
      "  Downloading https://files.pythonhosted.org/packages/b1/11/cba4be5a737c6431323b89b5ade818b3bbe1df6e8261c6c70221a767c5d9/xgboost-1.0.2-py3-none-win_amd64.whl (24.6MB)\n",
      "Requirement already satisfied: numpy in d:\\sgmuserprofile\\sjbgwk\\appdata\\roaming\\python\\python37\\site-packages (from xgboost) (1.17.0)\n",
      "Requirement already satisfied: scipy in c:\\programdata\\anaconda3\\lib\\site-packages (from xgboost) (1.1.0)\n",
      "Installing collected packages: xgboost\n",
      "Successfully installed xgboost-1.0.2\n"
     ]
    },
    {
     "name": "stderr",
     "output_type": "stream",
     "text": [
      "You are using pip version 10.0.1, however version 20.0.2 is available.\n",
      "You should consider upgrading via the 'python -m pip install --upgrade pip' command.\n"
     ]
    }
   ],
   "source": [
    "!pip install xgboost"
   ]
  },
  {
   "cell_type": "code",
   "execution_count": 18,
   "metadata": {},
   "outputs": [],
   "source": [
    "import xgboost"
   ]
  },
  {
   "cell_type": "code",
   "execution_count": 21,
   "metadata": {},
   "outputs": [],
   "source": [
    "import catboost as cbt"
   ]
  }
 ],
 "metadata": {
  "kernelspec": {
   "display_name": "Python 3",
   "language": "python",
   "name": "python3"
  },
  "language_info": {
   "codemirror_mode": {
    "name": "ipython",
    "version": 3
   },
   "file_extension": ".py",
   "mimetype": "text/x-python",
   "name": "python",
   "nbconvert_exporter": "python",
   "pygments_lexer": "ipython3",
   "version": "3.7.0"
  },
  "nbTranslate": {
   "displayLangs": [
    "*"
   ],
   "hotkey": "alt-t",
   "langInMainMenu": true,
   "sourceLang": "en",
   "targetLang": "fr",
   "useGoogleTranslate": true
  },
  "toc": {
   "base_numbering": 1,
   "nav_menu": {},
   "number_sections": true,
   "sideBar": true,
   "skip_h1_title": false,
   "title_cell": "Table of Contents",
   "title_sidebar": "Contents",
   "toc_cell": false,
   "toc_position": {},
   "toc_section_display": true,
   "toc_window_display": false
  }
 },
 "nbformat": 4,
 "nbformat_minor": 2
}
