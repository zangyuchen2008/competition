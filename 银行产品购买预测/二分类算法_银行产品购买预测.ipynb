{
 "cells": [
  {
   "cell_type": "markdown",
   "metadata": {},
   "source": [
    "# 客户购买预测\n",
    "https://www.kesci.com/home/competition/5c234c6626ba91002bfdfdd3/leaderboard"
   ]
  },
  {
   "cell_type": "code",
   "execution_count": 42,
   "metadata": {},
   "outputs": [],
   "source": [
    "# 从sklearn 调入所需要的包\n",
    "# from sklearn import datasets\n",
    "from sklearn.model_selection import train_test_split #数据分隔出训练集和验证集\n",
    "import lightgbm as lgb\n",
    "import numpy as np\n",
    "import pandas as pd\n",
    "#导入精度和召回\n",
    "from sklearn.metrics import precision_score, recall_score\n",
    "import lightgbm as lgb"
   ]
  },
  {
   "cell_type": "code",
   "execution_count": 43,
   "metadata": {},
   "outputs": [],
   "source": [
    "path='./'\n",
    "import os\n",
    "import json\n",
    "import gc\n",
    "# os.system('pip install numba')\n",
    "from numba import jit\n",
    "#tqdm\n",
    "# os.system('pip install tqdm')\n",
    "from tqdm import tqdm_notebook\n",
    "from tqdm import tqdm\n",
    "\n",
    "#Integrated model\n",
    "# os.system('pip install lightgbm')\n",
    "import lightgbm as lgb\n",
    "# os.system('pip install catboost==0.15.2')\n",
    "import catboost as cbt\n",
    "# os.system('pip install xgboost')\n",
    "# import xgboost as xgb\n",
    "\n",
    "#base import \n",
    "import numpy as np\n",
    "import pandas as pd\n",
    "\n",
    "# about sklearn\n",
    "from sklearn.metrics import roc_auc_score\n",
    "from sklearn.model_selection import StratifiedKFold, KFold, RepeatedKFold\n",
    "from sklearn.preprocessing import LabelEncoder\n",
    "from sklearn.preprocessing import StandardScaler\n",
    "from sklearn.metrics import mean_absolute_error\n",
    "from sklearn.linear_model import LinearRegression\n",
    "from sklearn.preprocessing import StandardScaler as std\n",
    "from sklearn.kernel_ridge import KernelRidge\n",
    "from sklearn.metrics import f1_score\n",
    "#about time\n",
    "import time\n",
    "import datetime \n",
    "from datetime import datetime, timedelta\n",
    "\n",
    "#Garbage collection\n",
    "import gc\n",
    "# scipy\n",
    "from scipy.signal import hilbert\n",
    "from scipy.signal import hann\n",
    "from scipy.signal import convolve\n",
    "from scipy import stats\n",
    "import scipy.spatial.distance as dist\n",
    "#other\n",
    "from collections import Counter \n",
    "from statistics import mode \n",
    "    #warning\n",
    "import warnings\n",
    "warnings.filterwarnings(\"ignore\")\n",
    "import json \n",
    "import math\n",
    "from itertools import product\n",
    "import ast "
   ]
  },
  {
   "cell_type": "code",
   "execution_count": 44,
   "metadata": {
    "tags": []
   },
   "outputs": [
    {
     "output_type": "stream",
     "name": "stdout",
     "text": "<class 'pandas.core.frame.DataFrame'>\nRangeIndex: 25317 entries, 0 to 25316\nData columns (total 18 columns):\n #   Column     Non-Null Count  Dtype \n---  ------     --------------  ----- \n 0   ID         25317 non-null  int64 \n 1   age        25317 non-null  int64 \n 2   job        25317 non-null  object\n 3   marital    25317 non-null  object\n 4   education  25317 non-null  object\n 5   default    25317 non-null  object\n 6   balance    25317 non-null  int64 \n 7   housing    25317 non-null  object\n 8   loan       25317 non-null  object\n 9   contact    25317 non-null  object\n 10  day        25317 non-null  int64 \n 11  month      25317 non-null  object\n 12  duration   25317 non-null  int64 \n 13  campaign   25317 non-null  int64 \n 14  pdays      25317 non-null  int64 \n 15  previous   25317 non-null  int64 \n 16  poutcome   25317 non-null  object\n 17  y          25317 non-null  int64 \ndtypes: int64(9), object(9)\nmemory usage: 3.5+ MB\nNone\n<class 'pandas.core.frame.DataFrame'>\nRangeIndex: 10852 entries, 0 to 10851\nData columns (total 17 columns):\n #   Column     Non-Null Count  Dtype \n---  ------     --------------  ----- \n 0   ID         10852 non-null  int64 \n 1   age        10852 non-null  int64 \n 2   job        10852 non-null  object\n 3   marital    10852 non-null  object\n 4   education  10852 non-null  object\n 5   default    10852 non-null  object\n 6   balance    10852 non-null  int64 \n 7   housing    10852 non-null  object\n 8   loan       10852 non-null  object\n 9   contact    10852 non-null  object\n 10  day        10852 non-null  int64 \n 11  month      10852 non-null  object\n 12  duration   10852 non-null  int64 \n 13  campaign   10852 non-null  int64 \n 14  pdays      10852 non-null  int64 \n 15  previous   10852 non-null  int64 \n 16  poutcome   10852 non-null  object\ndtypes: int64(8), object(9)\nmemory usage: 1.4+ MB\nNone\n"
    }
   ],
   "source": [
    "path='./'\n",
    "train = pd.read_csv(path+'input/train_set.csv')\n",
    "test = pd.read_csv(path+'input/test_set.csv')\n",
    "print(train.info())\n",
    "print(test.info())"
   ]
  },
  {
   "cell_type": "code",
   "execution_count": 45,
   "metadata": {},
   "outputs": [
    {
     "output_type": "execute_result",
     "data": {
      "text/plain": "                 ID           age        balance           day      duration  \\\ncount  25317.000000  25317.000000   25317.000000  25317.000000  25317.000000   \nmean   12659.000000     40.935379    1357.555082     15.835289    257.732393   \nstd     7308.532719     10.634289    2999.822811      8.319480    256.975151   \nmin        1.000000     18.000000   -8019.000000      1.000000      0.000000   \n25%     6330.000000     33.000000      73.000000      8.000000    103.000000   \n50%    12659.000000     39.000000     448.000000     16.000000    181.000000   \n75%    18988.000000     48.000000    1435.000000     21.000000    317.000000   \nmax    25317.000000     95.000000  102127.000000     31.000000   3881.000000   \n\n           campaign         pdays      previous             y  \ncount  25317.000000  25317.000000  25317.000000  25317.000000  \nmean       2.772050     40.248766      0.591737      0.116957  \nstd        3.136097    100.213541      2.568313      0.321375  \nmin        1.000000     -1.000000      0.000000      0.000000  \n25%        1.000000     -1.000000      0.000000      0.000000  \n50%        2.000000     -1.000000      0.000000      0.000000  \n75%        3.000000     -1.000000      0.000000      0.000000  \nmax       55.000000    854.000000    275.000000      1.000000  ",
      "text/html": "<div>\n<style scoped>\n    .dataframe tbody tr th:only-of-type {\n        vertical-align: middle;\n    }\n\n    .dataframe tbody tr th {\n        vertical-align: top;\n    }\n\n    .dataframe thead th {\n        text-align: right;\n    }\n</style>\n<table border=\"1\" class=\"dataframe\">\n  <thead>\n    <tr style=\"text-align: right;\">\n      <th></th>\n      <th>ID</th>\n      <th>age</th>\n      <th>balance</th>\n      <th>day</th>\n      <th>duration</th>\n      <th>campaign</th>\n      <th>pdays</th>\n      <th>previous</th>\n      <th>y</th>\n    </tr>\n  </thead>\n  <tbody>\n    <tr>\n      <th>count</th>\n      <td>25317.000000</td>\n      <td>25317.000000</td>\n      <td>25317.000000</td>\n      <td>25317.000000</td>\n      <td>25317.000000</td>\n      <td>25317.000000</td>\n      <td>25317.000000</td>\n      <td>25317.000000</td>\n      <td>25317.000000</td>\n    </tr>\n    <tr>\n      <th>mean</th>\n      <td>12659.000000</td>\n      <td>40.935379</td>\n      <td>1357.555082</td>\n      <td>15.835289</td>\n      <td>257.732393</td>\n      <td>2.772050</td>\n      <td>40.248766</td>\n      <td>0.591737</td>\n      <td>0.116957</td>\n    </tr>\n    <tr>\n      <th>std</th>\n      <td>7308.532719</td>\n      <td>10.634289</td>\n      <td>2999.822811</td>\n      <td>8.319480</td>\n      <td>256.975151</td>\n      <td>3.136097</td>\n      <td>100.213541</td>\n      <td>2.568313</td>\n      <td>0.321375</td>\n    </tr>\n    <tr>\n      <th>min</th>\n      <td>1.000000</td>\n      <td>18.000000</td>\n      <td>-8019.000000</td>\n      <td>1.000000</td>\n      <td>0.000000</td>\n      <td>1.000000</td>\n      <td>-1.000000</td>\n      <td>0.000000</td>\n      <td>0.000000</td>\n    </tr>\n    <tr>\n      <th>25%</th>\n      <td>6330.000000</td>\n      <td>33.000000</td>\n      <td>73.000000</td>\n      <td>8.000000</td>\n      <td>103.000000</td>\n      <td>1.000000</td>\n      <td>-1.000000</td>\n      <td>0.000000</td>\n      <td>0.000000</td>\n    </tr>\n    <tr>\n      <th>50%</th>\n      <td>12659.000000</td>\n      <td>39.000000</td>\n      <td>448.000000</td>\n      <td>16.000000</td>\n      <td>181.000000</td>\n      <td>2.000000</td>\n      <td>-1.000000</td>\n      <td>0.000000</td>\n      <td>0.000000</td>\n    </tr>\n    <tr>\n      <th>75%</th>\n      <td>18988.000000</td>\n      <td>48.000000</td>\n      <td>1435.000000</td>\n      <td>21.000000</td>\n      <td>317.000000</td>\n      <td>3.000000</td>\n      <td>-1.000000</td>\n      <td>0.000000</td>\n      <td>0.000000</td>\n    </tr>\n    <tr>\n      <th>max</th>\n      <td>25317.000000</td>\n      <td>95.000000</td>\n      <td>102127.000000</td>\n      <td>31.000000</td>\n      <td>3881.000000</td>\n      <td>55.000000</td>\n      <td>854.000000</td>\n      <td>275.000000</td>\n      <td>1.000000</td>\n    </tr>\n  </tbody>\n</table>\n</div>"
     },
     "metadata": {},
     "execution_count": 45
    }
   ],
   "source": [
    "train.describe()"
   ]
  },
  {
   "cell_type": "code",
   "execution_count": 46,
   "metadata": {},
   "outputs": [
    {
     "output_type": "execute_result",
     "data": {
      "text/plain": "                ID       age   balance       day  duration  campaign  \\\nID        1.000000  0.008465  0.032719 -0.020171  0.229149 -0.038265   \nage       0.008465  1.000000  0.093740 -0.016070  0.000416  0.006171   \nbalance   0.032719  0.093740  1.000000  0.010245  0.026042 -0.010419   \nday      -0.020171 -0.016070  0.010245  1.000000 -0.031946  0.168830   \nduration  0.229149  0.000416  0.026042 -0.031946  1.000000 -0.087780   \ncampaign -0.038265  0.006171 -0.010419  0.168830 -0.087780  1.000000   \npdays     0.065807 -0.026431  0.001032 -0.092892  0.000040 -0.089224   \nprevious  0.047028  0.006575  0.015792 -0.050706  0.001315 -0.031667   \ny         0.556627  0.029916  0.057564 -0.031886  0.394746 -0.075173   \n\n             pdays  previous         y  \nID        0.065807  0.047028  0.556627  \nage      -0.026431  0.006575  0.029916  \nbalance   0.001032  0.015792  0.057564  \nday      -0.092892 -0.050706 -0.031886  \nduration  0.000040  0.001315  0.394746  \ncampaign -0.089224 -0.031667 -0.075173  \npdays     1.000000  0.411688  0.107565  \nprevious  0.411688  1.000000  0.088337  \ny         0.107565  0.088337  1.000000  ",
      "text/html": "<div>\n<style scoped>\n    .dataframe tbody tr th:only-of-type {\n        vertical-align: middle;\n    }\n\n    .dataframe tbody tr th {\n        vertical-align: top;\n    }\n\n    .dataframe thead th {\n        text-align: right;\n    }\n</style>\n<table border=\"1\" class=\"dataframe\">\n  <thead>\n    <tr style=\"text-align: right;\">\n      <th></th>\n      <th>ID</th>\n      <th>age</th>\n      <th>balance</th>\n      <th>day</th>\n      <th>duration</th>\n      <th>campaign</th>\n      <th>pdays</th>\n      <th>previous</th>\n      <th>y</th>\n    </tr>\n  </thead>\n  <tbody>\n    <tr>\n      <th>ID</th>\n      <td>1.000000</td>\n      <td>0.008465</td>\n      <td>0.032719</td>\n      <td>-0.020171</td>\n      <td>0.229149</td>\n      <td>-0.038265</td>\n      <td>0.065807</td>\n      <td>0.047028</td>\n      <td>0.556627</td>\n    </tr>\n    <tr>\n      <th>age</th>\n      <td>0.008465</td>\n      <td>1.000000</td>\n      <td>0.093740</td>\n      <td>-0.016070</td>\n      <td>0.000416</td>\n      <td>0.006171</td>\n      <td>-0.026431</td>\n      <td>0.006575</td>\n      <td>0.029916</td>\n    </tr>\n    <tr>\n      <th>balance</th>\n      <td>0.032719</td>\n      <td>0.093740</td>\n      <td>1.000000</td>\n      <td>0.010245</td>\n      <td>0.026042</td>\n      <td>-0.010419</td>\n      <td>0.001032</td>\n      <td>0.015792</td>\n      <td>0.057564</td>\n    </tr>\n    <tr>\n      <th>day</th>\n      <td>-0.020171</td>\n      <td>-0.016070</td>\n      <td>0.010245</td>\n      <td>1.000000</td>\n      <td>-0.031946</td>\n      <td>0.168830</td>\n      <td>-0.092892</td>\n      <td>-0.050706</td>\n      <td>-0.031886</td>\n    </tr>\n    <tr>\n      <th>duration</th>\n      <td>0.229149</td>\n      <td>0.000416</td>\n      <td>0.026042</td>\n      <td>-0.031946</td>\n      <td>1.000000</td>\n      <td>-0.087780</td>\n      <td>0.000040</td>\n      <td>0.001315</td>\n      <td>0.394746</td>\n    </tr>\n    <tr>\n      <th>campaign</th>\n      <td>-0.038265</td>\n      <td>0.006171</td>\n      <td>-0.010419</td>\n      <td>0.168830</td>\n      <td>-0.087780</td>\n      <td>1.000000</td>\n      <td>-0.089224</td>\n      <td>-0.031667</td>\n      <td>-0.075173</td>\n    </tr>\n    <tr>\n      <th>pdays</th>\n      <td>0.065807</td>\n      <td>-0.026431</td>\n      <td>0.001032</td>\n      <td>-0.092892</td>\n      <td>0.000040</td>\n      <td>-0.089224</td>\n      <td>1.000000</td>\n      <td>0.411688</td>\n      <td>0.107565</td>\n    </tr>\n    <tr>\n      <th>previous</th>\n      <td>0.047028</td>\n      <td>0.006575</td>\n      <td>0.015792</td>\n      <td>-0.050706</td>\n      <td>0.001315</td>\n      <td>-0.031667</td>\n      <td>0.411688</td>\n      <td>1.000000</td>\n      <td>0.088337</td>\n    </tr>\n    <tr>\n      <th>y</th>\n      <td>0.556627</td>\n      <td>0.029916</td>\n      <td>0.057564</td>\n      <td>-0.031886</td>\n      <td>0.394746</td>\n      <td>-0.075173</td>\n      <td>0.107565</td>\n      <td>0.088337</td>\n      <td>1.000000</td>\n    </tr>\n  </tbody>\n</table>\n</div>"
     },
     "metadata": {},
     "execution_count": 46
    }
   ],
   "source": [
    "train.corr()"
   ]
  },
  {
   "cell_type": "code",
   "execution_count": 47,
   "metadata": {},
   "outputs": [
    {
     "output_type": "execute_result",
     "data": {
      "text/plain": "blue-collar      5456\nmanagement       5296\ntechnician       4241\nadmin.           2909\nservices         2342\nretired          1273\nself-employed     884\nentrepreneur      856\nunemployed        701\nhousemaid         663\nstudent           533\nunknown           163\nName: job, dtype: int64"
     },
     "metadata": {},
     "execution_count": 47
    }
   ],
   "source": [
    "train.job.value_counts()"
   ]
  },
  {
   "cell_type": "markdown",
   "metadata": {},
   "source": [
    "## 串接训练集和测试集，切记做lable encoder前要串接数据"
   ]
  },
  {
   "cell_type": "code",
   "execution_count": 48,
   "metadata": {},
   "outputs": [
    {
     "output_type": "execute_result",
     "data": {
      "text/plain": "   ID  age         job   marital  education default  balance housing loan  \\\n0   1   43  management   married   tertiary      no      291     yes   no   \n1   2   42  technician  divorced    primary      no     5076     yes   no   \n2   3   47      admin.   married  secondary      no      104     yes  yes   \n3   4   28  management    single  secondary      no     -994     yes  yes   \n4   5   42  technician  divorced  secondary      no     2974     yes   no   \n\n    contact  day month  duration  campaign  pdays  previous poutcome  y  \n0   unknown    9   may       150         2     -1         0  unknown  0  \n1  cellular    7   apr        99         1    251         2    other  0  \n2  cellular   14   jul        77         2     -1         0  unknown  0  \n3  cellular   18   jul       174         2     -1         0  unknown  0  \n4   unknown   21   may       187         5     -1         0  unknown  0  ",
      "text/html": "<div>\n<style scoped>\n    .dataframe tbody tr th:only-of-type {\n        vertical-align: middle;\n    }\n\n    .dataframe tbody tr th {\n        vertical-align: top;\n    }\n\n    .dataframe thead th {\n        text-align: right;\n    }\n</style>\n<table border=\"1\" class=\"dataframe\">\n  <thead>\n    <tr style=\"text-align: right;\">\n      <th></th>\n      <th>ID</th>\n      <th>age</th>\n      <th>job</th>\n      <th>marital</th>\n      <th>education</th>\n      <th>default</th>\n      <th>balance</th>\n      <th>housing</th>\n      <th>loan</th>\n      <th>contact</th>\n      <th>day</th>\n      <th>month</th>\n      <th>duration</th>\n      <th>campaign</th>\n      <th>pdays</th>\n      <th>previous</th>\n      <th>poutcome</th>\n      <th>y</th>\n    </tr>\n  </thead>\n  <tbody>\n    <tr>\n      <th>0</th>\n      <td>1</td>\n      <td>43</td>\n      <td>management</td>\n      <td>married</td>\n      <td>tertiary</td>\n      <td>no</td>\n      <td>291</td>\n      <td>yes</td>\n      <td>no</td>\n      <td>unknown</td>\n      <td>9</td>\n      <td>may</td>\n      <td>150</td>\n      <td>2</td>\n      <td>-1</td>\n      <td>0</td>\n      <td>unknown</td>\n      <td>0</td>\n    </tr>\n    <tr>\n      <th>1</th>\n      <td>2</td>\n      <td>42</td>\n      <td>technician</td>\n      <td>divorced</td>\n      <td>primary</td>\n      <td>no</td>\n      <td>5076</td>\n      <td>yes</td>\n      <td>no</td>\n      <td>cellular</td>\n      <td>7</td>\n      <td>apr</td>\n      <td>99</td>\n      <td>1</td>\n      <td>251</td>\n      <td>2</td>\n      <td>other</td>\n      <td>0</td>\n    </tr>\n    <tr>\n      <th>2</th>\n      <td>3</td>\n      <td>47</td>\n      <td>admin.</td>\n      <td>married</td>\n      <td>secondary</td>\n      <td>no</td>\n      <td>104</td>\n      <td>yes</td>\n      <td>yes</td>\n      <td>cellular</td>\n      <td>14</td>\n      <td>jul</td>\n      <td>77</td>\n      <td>2</td>\n      <td>-1</td>\n      <td>0</td>\n      <td>unknown</td>\n      <td>0</td>\n    </tr>\n    <tr>\n      <th>3</th>\n      <td>4</td>\n      <td>28</td>\n      <td>management</td>\n      <td>single</td>\n      <td>secondary</td>\n      <td>no</td>\n      <td>-994</td>\n      <td>yes</td>\n      <td>yes</td>\n      <td>cellular</td>\n      <td>18</td>\n      <td>jul</td>\n      <td>174</td>\n      <td>2</td>\n      <td>-1</td>\n      <td>0</td>\n      <td>unknown</td>\n      <td>0</td>\n    </tr>\n    <tr>\n      <th>4</th>\n      <td>5</td>\n      <td>42</td>\n      <td>technician</td>\n      <td>divorced</td>\n      <td>secondary</td>\n      <td>no</td>\n      <td>2974</td>\n      <td>yes</td>\n      <td>no</td>\n      <td>unknown</td>\n      <td>21</td>\n      <td>may</td>\n      <td>187</td>\n      <td>5</td>\n      <td>-1</td>\n      <td>0</td>\n      <td>unknown</td>\n      <td>0</td>\n    </tr>\n  </tbody>\n</table>\n</div>"
     },
     "metadata": {},
     "execution_count": 48
    }
   ],
   "source": [
    "test['y']=-1\n",
    "data = train.append(test).reset_index(drop=True)\n",
    "# data = pd.concat([train,test]).reset_index(drop=True)\n",
    "data.head()"
   ]
  },
  {
   "cell_type": "markdown",
   "metadata": {},
   "source": [
    "## label encoder"
   ]
  },
  {
   "cell_type": "code",
   "execution_count": 49,
   "metadata": {
    "tags": []
   },
   "outputs": [],
   "source": [
    "# cat_col = [i for i in data.select_dtypes(object).columns if i not in ['ID','y']]\n",
    "# for i in tqdm_notebook(cat_col):\n",
    "#     lbl = LabelEncoder()\n",
    "# #     data['count_' + i] = data.groupby([i])[i].transform('count')\n",
    "#     data[i] = lbl.fit_transform(data[i].astype(str))\n"
   ]
  },
  {
   "cell_type": "code",
   "execution_count": 50,
   "metadata": {},
   "outputs": [
    {
     "output_type": "execute_result",
     "data": {
      "text/plain": "   ID  age         job   marital  education default  balance housing loan  \\\n0   1   43  management   married   tertiary      no      291     yes   no   \n1   2   42  technician  divorced    primary      no     5076     yes   no   \n2   3   47      admin.   married  secondary      no      104     yes  yes   \n3   4   28  management    single  secondary      no     -994     yes  yes   \n4   5   42  technician  divorced  secondary      no     2974     yes   no   \n\n    contact  day month  duration  campaign  pdays  previous poutcome  y  \n0   unknown    9   may       150         2     -1         0  unknown  0  \n1  cellular    7   apr        99         1    251         2    other  0  \n2  cellular   14   jul        77         2     -1         0  unknown  0  \n3  cellular   18   jul       174         2     -1         0  unknown  0  \n4   unknown   21   may       187         5     -1         0  unknown  0  ",
      "text/html": "<div>\n<style scoped>\n    .dataframe tbody tr th:only-of-type {\n        vertical-align: middle;\n    }\n\n    .dataframe tbody tr th {\n        vertical-align: top;\n    }\n\n    .dataframe thead th {\n        text-align: right;\n    }\n</style>\n<table border=\"1\" class=\"dataframe\">\n  <thead>\n    <tr style=\"text-align: right;\">\n      <th></th>\n      <th>ID</th>\n      <th>age</th>\n      <th>job</th>\n      <th>marital</th>\n      <th>education</th>\n      <th>default</th>\n      <th>balance</th>\n      <th>housing</th>\n      <th>loan</th>\n      <th>contact</th>\n      <th>day</th>\n      <th>month</th>\n      <th>duration</th>\n      <th>campaign</th>\n      <th>pdays</th>\n      <th>previous</th>\n      <th>poutcome</th>\n      <th>y</th>\n    </tr>\n  </thead>\n  <tbody>\n    <tr>\n      <th>0</th>\n      <td>1</td>\n      <td>43</td>\n      <td>management</td>\n      <td>married</td>\n      <td>tertiary</td>\n      <td>no</td>\n      <td>291</td>\n      <td>yes</td>\n      <td>no</td>\n      <td>unknown</td>\n      <td>9</td>\n      <td>may</td>\n      <td>150</td>\n      <td>2</td>\n      <td>-1</td>\n      <td>0</td>\n      <td>unknown</td>\n      <td>0</td>\n    </tr>\n    <tr>\n      <th>1</th>\n      <td>2</td>\n      <td>42</td>\n      <td>technician</td>\n      <td>divorced</td>\n      <td>primary</td>\n      <td>no</td>\n      <td>5076</td>\n      <td>yes</td>\n      <td>no</td>\n      <td>cellular</td>\n      <td>7</td>\n      <td>apr</td>\n      <td>99</td>\n      <td>1</td>\n      <td>251</td>\n      <td>2</td>\n      <td>other</td>\n      <td>0</td>\n    </tr>\n    <tr>\n      <th>2</th>\n      <td>3</td>\n      <td>47</td>\n      <td>admin.</td>\n      <td>married</td>\n      <td>secondary</td>\n      <td>no</td>\n      <td>104</td>\n      <td>yes</td>\n      <td>yes</td>\n      <td>cellular</td>\n      <td>14</td>\n      <td>jul</td>\n      <td>77</td>\n      <td>2</td>\n      <td>-1</td>\n      <td>0</td>\n      <td>unknown</td>\n      <td>0</td>\n    </tr>\n    <tr>\n      <th>3</th>\n      <td>4</td>\n      <td>28</td>\n      <td>management</td>\n      <td>single</td>\n      <td>secondary</td>\n      <td>no</td>\n      <td>-994</td>\n      <td>yes</td>\n      <td>yes</td>\n      <td>cellular</td>\n      <td>18</td>\n      <td>jul</td>\n      <td>174</td>\n      <td>2</td>\n      <td>-1</td>\n      <td>0</td>\n      <td>unknown</td>\n      <td>0</td>\n    </tr>\n    <tr>\n      <th>4</th>\n      <td>5</td>\n      <td>42</td>\n      <td>technician</td>\n      <td>divorced</td>\n      <td>secondary</td>\n      <td>no</td>\n      <td>2974</td>\n      <td>yes</td>\n      <td>no</td>\n      <td>unknown</td>\n      <td>21</td>\n      <td>may</td>\n      <td>187</td>\n      <td>5</td>\n      <td>-1</td>\n      <td>0</td>\n      <td>unknown</td>\n      <td>0</td>\n    </tr>\n  </tbody>\n</table>\n</div>"
     },
     "metadata": {},
     "execution_count": 50
    }
   ],
   "source": [
    "data.head()"
   ]
  },
  {
   "cell_type": "markdown",
   "metadata": {},
   "source": [
    "### 特征工程"
   ]
  },
  {
   "cell_type": "code",
   "execution_count": 51,
   "metadata": {
    "tags": []
   },
   "outputs": [
    {
     "output_type": "stream",
     "name": "stderr",
     "text": "100%|██████████| 10/10 [00:17<00:00,  1.78s/it]\n100%|██████████| 10/10 [03:09<00:00, 18.92s/it]\n"
    }
   ],
   "source": [
    "sparse_feature= ['campaign','contact','default','education','housing','job','loan','marital','month','poutcome']\n",
    "dense_feature=['age', 'balance','day','duration','campaign','pdays','previous']\n",
    "for d in tqdm(sparse_feature):\n",
    "    aggs={}\n",
    "    for s in sparse_feature:\n",
    "        temp=data.groupby(d)[s].agg(['count','nunique']).reset_index().rename(columns={'count':'count_'+str(d)+'_'+str(s),'nunique':'nunique_'+str(d)+'_'+str(s)})\n",
    "        data=pd.merge(data,temp,on=d,how='left')\n",
    "\n",
    "for d in tqdm(sparse_feature):\n",
    "    aggs={}\n",
    "    for s in dense_feature:\n",
    "        temp=data.groupby(d)[s].agg(['mean','max','min','std']).reset_index().rename(columns={'mean':str(d)+'_mean_'+str(s),'max':str(d)+'_max_'+str(s),'min':str(d)+'_min_'+str(s),'std':str(d)+'_std_'+str(s)})\n",
    "        data=pd.merge(data,temp,on=d,how='left')"
   ]
  },
  {
   "cell_type": "markdown",
   "metadata": {},
   "source": [
    "## lightgbm支持类别特征，因此可以不需要做lable encoder"
   ]
  },
  {
   "cell_type": "code",
   "execution_count": 52,
   "metadata": {},
   "outputs": [],
   "source": [
    "cat_col = [i for i in data.select_dtypes(object).columns if i not in ['ID','y']]\n",
    "    \n",
    "for i in cat_col:\n",
    "    data[i] = data[i].astype('category')"
   ]
  },
  {
   "cell_type": "code",
   "execution_count": 25,
   "metadata": {},
   "outputs": [
    {
     "output_type": "execute_result",
     "data": {
      "text/plain": "   ID  age         job   marital  education default  balance housing loan  \\\n0   1   43  management   married   tertiary      no      291     yes   no   \n1   2   42  technician  divorced    primary      no     5076     yes   no   \n2   3   47      admin.   married  secondary      no      104     yes  yes   \n3   4   28  management    single  secondary      no     -994     yes  yes   \n4   5   42  technician  divorced  secondary      no     2974     yes   no   \n\n    contact  day month  duration  campaign  pdays  previous poutcome  y  \n0   unknown    9   may       150         2     -1         0  unknown  0  \n1  cellular    7   apr        99         1    251         2    other  0  \n2  cellular   14   jul        77         2     -1         0  unknown  0  \n3  cellular   18   jul       174         2     -1         0  unknown  0  \n4   unknown   21   may       187         5     -1         0  unknown  0  ",
      "text/html": "<div>\n<style scoped>\n    .dataframe tbody tr th:only-of-type {\n        vertical-align: middle;\n    }\n\n    .dataframe tbody tr th {\n        vertical-align: top;\n    }\n\n    .dataframe thead th {\n        text-align: right;\n    }\n</style>\n<table border=\"1\" class=\"dataframe\">\n  <thead>\n    <tr style=\"text-align: right;\">\n      <th></th>\n      <th>ID</th>\n      <th>age</th>\n      <th>job</th>\n      <th>marital</th>\n      <th>education</th>\n      <th>default</th>\n      <th>balance</th>\n      <th>housing</th>\n      <th>loan</th>\n      <th>contact</th>\n      <th>day</th>\n      <th>month</th>\n      <th>duration</th>\n      <th>campaign</th>\n      <th>pdays</th>\n      <th>previous</th>\n      <th>poutcome</th>\n      <th>y</th>\n    </tr>\n  </thead>\n  <tbody>\n    <tr>\n      <th>0</th>\n      <td>1</td>\n      <td>43</td>\n      <td>management</td>\n      <td>married</td>\n      <td>tertiary</td>\n      <td>no</td>\n      <td>291</td>\n      <td>yes</td>\n      <td>no</td>\n      <td>unknown</td>\n      <td>9</td>\n      <td>may</td>\n      <td>150</td>\n      <td>2</td>\n      <td>-1</td>\n      <td>0</td>\n      <td>unknown</td>\n      <td>0</td>\n    </tr>\n    <tr>\n      <th>1</th>\n      <td>2</td>\n      <td>42</td>\n      <td>technician</td>\n      <td>divorced</td>\n      <td>primary</td>\n      <td>no</td>\n      <td>5076</td>\n      <td>yes</td>\n      <td>no</td>\n      <td>cellular</td>\n      <td>7</td>\n      <td>apr</td>\n      <td>99</td>\n      <td>1</td>\n      <td>251</td>\n      <td>2</td>\n      <td>other</td>\n      <td>0</td>\n    </tr>\n    <tr>\n      <th>2</th>\n      <td>3</td>\n      <td>47</td>\n      <td>admin.</td>\n      <td>married</td>\n      <td>secondary</td>\n      <td>no</td>\n      <td>104</td>\n      <td>yes</td>\n      <td>yes</td>\n      <td>cellular</td>\n      <td>14</td>\n      <td>jul</td>\n      <td>77</td>\n      <td>2</td>\n      <td>-1</td>\n      <td>0</td>\n      <td>unknown</td>\n      <td>0</td>\n    </tr>\n    <tr>\n      <th>3</th>\n      <td>4</td>\n      <td>28</td>\n      <td>management</td>\n      <td>single</td>\n      <td>secondary</td>\n      <td>no</td>\n      <td>-994</td>\n      <td>yes</td>\n      <td>yes</td>\n      <td>cellular</td>\n      <td>18</td>\n      <td>jul</td>\n      <td>174</td>\n      <td>2</td>\n      <td>-1</td>\n      <td>0</td>\n      <td>unknown</td>\n      <td>0</td>\n    </tr>\n    <tr>\n      <th>4</th>\n      <td>5</td>\n      <td>42</td>\n      <td>technician</td>\n      <td>divorced</td>\n      <td>secondary</td>\n      <td>no</td>\n      <td>2974</td>\n      <td>yes</td>\n      <td>no</td>\n      <td>unknown</td>\n      <td>21</td>\n      <td>may</td>\n      <td>187</td>\n      <td>5</td>\n      <td>-1</td>\n      <td>0</td>\n      <td>unknown</td>\n      <td>0</td>\n    </tr>\n  </tbody>\n</table>\n</div>"
     },
     "metadata": {},
     "execution_count": 25
    }
   ],
   "source": [
    "data.head()"
   ]
  },
  {
   "cell_type": "code",
   "execution_count": 10,
   "metadata": {
    "tags": []
   },
   "outputs": [
    {
     "output_type": "stream",
     "name": "stdout",
     "text": "<class 'pandas.core.frame.DataFrame'>\nRangeIndex: 36169 entries, 0 to 36168\nData columns (total 18 columns):\n #   Column     Non-Null Count  Dtype\n---  ------     --------------  -----\n 0   ID         36169 non-null  int64\n 1   age        36169 non-null  int64\n 2   job        36169 non-null  int32\n 3   marital    36169 non-null  int32\n 4   education  36169 non-null  int32\n 5   default    36169 non-null  int32\n 6   balance    36169 non-null  int64\n 7   housing    36169 non-null  int32\n 8   loan       36169 non-null  int32\n 9   contact    36169 non-null  int32\n 10  day        36169 non-null  int64\n 11  month      36169 non-null  int32\n 12  duration   36169 non-null  int64\n 13  campaign   36169 non-null  int64\n 14  pdays      36169 non-null  int64\n 15  previous   36169 non-null  int64\n 16  poutcome   36169 non-null  int32\n 17  y          36169 non-null  int64\ndtypes: int32(9), int64(9)\nmemory usage: 3.7 MB\n"
    }
   ],
   "source": [
    "data.info()"
   ]
  },
  {
   "cell_type": "markdown",
   "metadata": {},
   "source": [
    "1ID Int客户唯一标识\n",
    "\n",
    "2age Int客户年龄\n",
    "\n",
    "3job String客户的职业\n",
    "\n",
    "4marital String婚姻状况\n",
    "\n",
    "5education String受教育水平\n",
    "\n",
    "6default String是否有违约记录\n",
    "\n",
    "7balance Int每年账户的平均余额\n",
    "\n",
    "8housing String是否有住房贷款\n",
    "\n",
    "9loan String是否有个人贷款\n",
    "\n",
    "10contact String与客户联系的沟通方式\n",
    "\n",
    "11day Int最后一次联系的时间（几号）\n",
    "\n",
    "12month String最后一次联系的时间（月份）\n",
    "\n",
    "13duration Int最后一次联系的交流时长\n",
    "\n",
    "14campaign Int在本次活动中，与该客户交流过的次数\n",
    "\n",
    "15pdays Int距离上次活动最后一次联系该客户，过去了多久（999表示没有联系过）16previousInt在本次活动之前，与该客户交流过的次数\n",
    "\n",
    "17poutcome String上一次活动的结果\n",
    "\n",
    "18y Int预测客户是否会订购定期存款业务"
   ]
  },
  {
   "cell_type": "code",
   "execution_count": 53,
   "metadata": {},
   "outputs": [
    {
     "output_type": "execute_result",
     "data": {
      "text/plain": "['age',\n 'job',\n 'marital',\n 'education',\n 'default',\n 'balance',\n 'housing',\n 'loan',\n 'contact',\n 'day',\n 'month',\n 'duration',\n 'campaign',\n 'pdays',\n 'previous',\n 'poutcome',\n 'count_campaign_campaign',\n 'nunique_campaign_campaign',\n 'count_campaign_contact',\n 'nunique_campaign_contact',\n 'count_campaign_default',\n 'nunique_campaign_default',\n 'count_campaign_education',\n 'nunique_campaign_education',\n 'count_campaign_housing',\n 'nunique_campaign_housing',\n 'count_campaign_job',\n 'nunique_campaign_job',\n 'count_campaign_loan',\n 'nunique_campaign_loan',\n 'count_campaign_marital',\n 'nunique_campaign_marital',\n 'count_campaign_month',\n 'nunique_campaign_month',\n 'count_campaign_poutcome',\n 'nunique_campaign_poutcome',\n 'count_contact_campaign',\n 'nunique_contact_campaign',\n 'count_contact_contact',\n 'nunique_contact_contact',\n 'count_contact_default',\n 'nunique_contact_default',\n 'count_contact_education',\n 'nunique_contact_education',\n 'count_contact_housing',\n 'nunique_contact_housing',\n 'count_contact_job',\n 'nunique_contact_job',\n 'count_contact_loan',\n 'nunique_contact_loan',\n 'count_contact_marital',\n 'nunique_contact_marital',\n 'count_contact_month',\n 'nunique_contact_month',\n 'count_contact_poutcome',\n 'nunique_contact_poutcome',\n 'count_default_campaign',\n 'nunique_default_campaign',\n 'count_default_contact',\n 'nunique_default_contact',\n 'count_default_default',\n 'nunique_default_default',\n 'count_default_education',\n 'nunique_default_education',\n 'count_default_housing',\n 'nunique_default_housing',\n 'count_default_job',\n 'nunique_default_job',\n 'count_default_loan',\n 'nunique_default_loan',\n 'count_default_marital',\n 'nunique_default_marital',\n 'count_default_month',\n 'nunique_default_month',\n 'count_default_poutcome',\n 'nunique_default_poutcome',\n 'count_education_campaign',\n 'nunique_education_campaign',\n 'count_education_contact',\n 'nunique_education_contact',\n 'count_education_default',\n 'nunique_education_default',\n 'count_education_education',\n 'nunique_education_education',\n 'count_education_housing',\n 'nunique_education_housing',\n 'count_education_job',\n 'nunique_education_job',\n 'count_education_loan',\n 'nunique_education_loan',\n 'count_education_marital',\n 'nunique_education_marital',\n 'count_education_month',\n 'nunique_education_month',\n 'count_education_poutcome',\n 'nunique_education_poutcome',\n 'count_housing_campaign',\n 'nunique_housing_campaign',\n 'count_housing_contact',\n 'nunique_housing_contact',\n 'count_housing_default',\n 'nunique_housing_default',\n 'count_housing_education',\n 'nunique_housing_education',\n 'count_housing_housing',\n 'nunique_housing_housing',\n 'count_housing_job',\n 'nunique_housing_job',\n 'count_housing_loan',\n 'nunique_housing_loan',\n 'count_housing_marital',\n 'nunique_housing_marital',\n 'count_housing_month',\n 'nunique_housing_month',\n 'count_housing_poutcome',\n 'nunique_housing_poutcome',\n 'count_job_campaign',\n 'nunique_job_campaign',\n 'count_job_contact',\n 'nunique_job_contact',\n 'count_job_default',\n 'nunique_job_default',\n 'count_job_education',\n 'nunique_job_education',\n 'count_job_housing',\n 'nunique_job_housing',\n 'count_job_job',\n 'nunique_job_job',\n 'count_job_loan',\n 'nunique_job_loan',\n 'count_job_marital',\n 'nunique_job_marital',\n 'count_job_month',\n 'nunique_job_month',\n 'count_job_poutcome',\n 'nunique_job_poutcome',\n 'count_loan_campaign',\n 'nunique_loan_campaign',\n 'count_loan_contact',\n 'nunique_loan_contact',\n 'count_loan_default',\n 'nunique_loan_default',\n 'count_loan_education',\n 'nunique_loan_education',\n 'count_loan_housing',\n 'nunique_loan_housing',\n 'count_loan_job',\n 'nunique_loan_job',\n 'count_loan_loan',\n 'nunique_loan_loan',\n 'count_loan_marital',\n 'nunique_loan_marital',\n 'count_loan_month',\n 'nunique_loan_month',\n 'count_loan_poutcome',\n 'nunique_loan_poutcome',\n 'count_marital_campaign',\n 'nunique_marital_campaign',\n 'count_marital_contact',\n 'nunique_marital_contact',\n 'count_marital_default',\n 'nunique_marital_default',\n 'count_marital_education',\n 'nunique_marital_education',\n 'count_marital_housing',\n 'nunique_marital_housing',\n 'count_marital_job',\n 'nunique_marital_job',\n 'count_marital_loan',\n 'nunique_marital_loan',\n 'count_marital_marital',\n 'nunique_marital_marital',\n 'count_marital_month',\n 'nunique_marital_month',\n 'count_marital_poutcome',\n 'nunique_marital_poutcome',\n 'count_month_campaign',\n 'nunique_month_campaign',\n 'count_month_contact',\n 'nunique_month_contact',\n 'count_month_default',\n 'nunique_month_default',\n 'count_month_education',\n 'nunique_month_education',\n 'count_month_housing',\n 'nunique_month_housing',\n 'count_month_job',\n 'nunique_month_job',\n 'count_month_loan',\n 'nunique_month_loan',\n 'count_month_marital',\n 'nunique_month_marital',\n 'count_month_month',\n 'nunique_month_month',\n 'count_month_poutcome',\n 'nunique_month_poutcome',\n 'count_poutcome_campaign',\n 'nunique_poutcome_campaign',\n 'count_poutcome_contact',\n 'nunique_poutcome_contact',\n 'count_poutcome_default',\n 'nunique_poutcome_default',\n 'count_poutcome_education',\n 'nunique_poutcome_education',\n 'count_poutcome_housing',\n 'nunique_poutcome_housing',\n 'count_poutcome_job',\n 'nunique_poutcome_job',\n 'count_poutcome_loan',\n 'nunique_poutcome_loan',\n 'count_poutcome_marital',\n 'nunique_poutcome_marital',\n 'count_poutcome_month',\n 'nunique_poutcome_month',\n 'count_poutcome_poutcome',\n 'nunique_poutcome_poutcome',\n 'campaign_mean_age',\n 'campaign_max_age',\n 'campaign_min_age',\n 'campaign_std_age',\n 'campaign_mean_balance',\n 'campaign_max_balance',\n 'campaign_min_balance',\n 'campaign_std_balance',\n 'campaign_mean_day',\n 'campaign_max_day',\n 'campaign_min_day',\n 'campaign_std_day',\n 'campaign_mean_duration',\n 'campaign_max_duration',\n 'campaign_min_duration',\n 'campaign_std_duration',\n 'campaign_mean_campaign',\n 'campaign_max_campaign',\n 'campaign_min_campaign',\n 'campaign_std_campaign',\n 'campaign_mean_pdays',\n 'campaign_max_pdays',\n 'campaign_min_pdays',\n 'campaign_std_pdays',\n 'campaign_mean_previous',\n 'campaign_max_previous',\n 'campaign_min_previous',\n 'campaign_std_previous',\n 'contact_mean_age',\n 'contact_max_age',\n 'contact_min_age',\n 'contact_std_age',\n 'contact_mean_balance',\n 'contact_max_balance',\n 'contact_min_balance',\n 'contact_std_balance',\n 'contact_mean_day',\n 'contact_max_day',\n 'contact_min_day',\n 'contact_std_day',\n 'contact_mean_duration',\n 'contact_max_duration',\n 'contact_min_duration',\n 'contact_std_duration',\n 'contact_mean_campaign',\n 'contact_max_campaign',\n 'contact_min_campaign',\n 'contact_std_campaign',\n 'contact_mean_pdays',\n 'contact_max_pdays',\n 'contact_min_pdays',\n 'contact_std_pdays',\n 'contact_mean_previous',\n 'contact_max_previous',\n 'contact_min_previous',\n 'contact_std_previous',\n 'default_mean_age',\n 'default_max_age',\n 'default_min_age',\n 'default_std_age',\n 'default_mean_balance',\n 'default_max_balance',\n 'default_min_balance',\n 'default_std_balance',\n 'default_mean_day',\n 'default_max_day',\n 'default_min_day',\n 'default_std_day',\n 'default_mean_duration',\n 'default_max_duration',\n 'default_min_duration',\n 'default_std_duration',\n 'default_mean_campaign',\n 'default_max_campaign',\n 'default_min_campaign',\n 'default_std_campaign',\n 'default_mean_pdays',\n 'default_max_pdays',\n 'default_min_pdays',\n 'default_std_pdays',\n 'default_mean_previous',\n 'default_max_previous',\n 'default_min_previous',\n 'default_std_previous',\n 'education_mean_age',\n 'education_max_age',\n 'education_min_age',\n 'education_std_age',\n 'education_mean_balance',\n 'education_max_balance',\n 'education_min_balance',\n 'education_std_balance',\n 'education_mean_day',\n 'education_max_day',\n 'education_min_day',\n 'education_std_day',\n 'education_mean_duration',\n 'education_max_duration',\n 'education_min_duration',\n 'education_std_duration',\n 'education_mean_campaign',\n 'education_max_campaign',\n 'education_min_campaign',\n 'education_std_campaign',\n 'education_mean_pdays',\n 'education_max_pdays',\n 'education_min_pdays',\n 'education_std_pdays',\n 'education_mean_previous',\n 'education_max_previous',\n 'education_min_previous',\n 'education_std_previous',\n 'housing_mean_age',\n 'housing_max_age',\n 'housing_min_age',\n 'housing_std_age',\n 'housing_mean_balance',\n 'housing_max_balance',\n 'housing_min_balance',\n 'housing_std_balance',\n 'housing_mean_day',\n 'housing_max_day',\n 'housing_min_day',\n 'housing_std_day',\n 'housing_mean_duration',\n 'housing_max_duration',\n 'housing_min_duration',\n 'housing_std_duration',\n 'housing_mean_campaign',\n 'housing_max_campaign',\n 'housing_min_campaign',\n 'housing_std_campaign',\n 'housing_mean_pdays',\n 'housing_max_pdays',\n 'housing_min_pdays',\n 'housing_std_pdays',\n 'housing_mean_previous',\n 'housing_max_previous',\n 'housing_min_previous',\n 'housing_std_previous',\n 'job_mean_age',\n 'job_max_age',\n 'job_min_age',\n 'job_std_age',\n 'job_mean_balance',\n 'job_max_balance',\n 'job_min_balance',\n 'job_std_balance',\n 'job_mean_day',\n 'job_max_day',\n 'job_min_day',\n 'job_std_day',\n 'job_mean_duration',\n 'job_max_duration',\n 'job_min_duration',\n 'job_std_duration',\n 'job_mean_campaign',\n 'job_max_campaign',\n 'job_min_campaign',\n 'job_std_campaign',\n 'job_mean_pdays',\n 'job_max_pdays',\n 'job_min_pdays',\n 'job_std_pdays',\n 'job_mean_previous',\n 'job_max_previous',\n 'job_min_previous',\n 'job_std_previous',\n 'loan_mean_age',\n 'loan_max_age',\n 'loan_min_age',\n 'loan_std_age',\n 'loan_mean_balance',\n 'loan_max_balance',\n 'loan_min_balance',\n 'loan_std_balance',\n 'loan_mean_day',\n 'loan_max_day',\n 'loan_min_day',\n 'loan_std_day',\n 'loan_mean_duration',\n 'loan_max_duration',\n 'loan_min_duration',\n 'loan_std_duration',\n 'loan_mean_campaign',\n 'loan_max_campaign',\n 'loan_min_campaign',\n 'loan_std_campaign',\n 'loan_mean_pdays',\n 'loan_max_pdays',\n 'loan_min_pdays',\n 'loan_std_pdays',\n 'loan_mean_previous',\n 'loan_max_previous',\n 'loan_min_previous',\n 'loan_std_previous',\n 'marital_mean_age',\n 'marital_max_age',\n 'marital_min_age',\n 'marital_std_age',\n 'marital_mean_balance',\n 'marital_max_balance',\n 'marital_min_balance',\n 'marital_std_balance',\n 'marital_mean_day',\n 'marital_max_day',\n 'marital_min_day',\n 'marital_std_day',\n 'marital_mean_duration',\n 'marital_max_duration',\n 'marital_min_duration',\n 'marital_std_duration',\n 'marital_mean_campaign',\n 'marital_max_campaign',\n 'marital_min_campaign',\n 'marital_std_campaign',\n 'marital_mean_pdays',\n 'marital_max_pdays',\n 'marital_min_pdays',\n 'marital_std_pdays',\n 'marital_mean_previous',\n 'marital_max_previous',\n 'marital_min_previous',\n 'marital_std_previous',\n 'month_mean_age',\n 'month_max_age',\n 'month_min_age',\n 'month_std_age',\n 'month_mean_balance',\n 'month_max_balance',\n 'month_min_balance',\n 'month_std_balance',\n 'month_mean_day',\n 'month_max_day',\n 'month_min_day',\n 'month_std_day',\n 'month_mean_duration',\n 'month_max_duration',\n 'month_min_duration',\n 'month_std_duration',\n 'month_mean_campaign',\n 'month_max_campaign',\n 'month_min_campaign',\n 'month_std_campaign',\n 'month_mean_pdays',\n 'month_max_pdays',\n 'month_min_pdays',\n 'month_std_pdays',\n 'month_mean_previous',\n 'month_max_previous',\n 'month_min_previous',\n 'month_std_previous',\n 'poutcome_mean_age',\n 'poutcome_max_age',\n 'poutcome_min_age',\n 'poutcome_std_age',\n 'poutcome_mean_balance',\n 'poutcome_max_balance',\n 'poutcome_min_balance',\n 'poutcome_std_balance',\n 'poutcome_mean_day',\n 'poutcome_max_day',\n 'poutcome_min_day',\n 'poutcome_std_day',\n 'poutcome_mean_duration',\n 'poutcome_max_duration',\n 'poutcome_min_duration',\n 'poutcome_std_duration',\n 'poutcome_mean_campaign',\n 'poutcome_max_campaign',\n 'poutcome_min_campaign',\n 'poutcome_std_campaign',\n 'poutcome_mean_pdays',\n 'poutcome_max_pdays',\n 'poutcome_min_pdays',\n 'poutcome_std_pdays',\n 'poutcome_mean_previous',\n 'poutcome_max_previous',\n 'poutcome_min_previous',\n 'poutcome_std_previous']"
     },
     "metadata": {},
     "execution_count": 53
    }
   ],
   "source": [
    "feats = [i for i in data.columns if i not in ['ID','y']]\n",
    "feats"
   ]
  },
  {
   "cell_type": "code",
   "execution_count": 27,
   "metadata": {},
   "outputs": [],
   "source": [
    "import lightgbm as lgb\n",
    "model = lgb.LGBMClassifier(\n",
    "        boosting_type=\"gbdt\", num_leaves=30, reg_alpha=0, reg_lambda=0.,\n",
    "    max_depth=-1, n_estimators=1500, objective='binary',metric= 'auc',\n",
    "    subsample=0.95, colsample_bytree=0.7, subsample_freq=1,\n",
    "    learning_rate=0.02, random_state=2017\n",
    "    )\n",
    "data1 =data[data['y']!=-1][feats]\n",
    "label1 =data[data['y']!=-1]['y']\n",
    "testx= data[data['y']==-1][feats]\n",
    "\n",
    "train_x, test_x, train_y, test_y = train_test_split(data1, label1, test_size=0.3, random_state=42)\n",
    "model.fit(train_x,train_y)\n",
    "test_pre = model.predict_proba(testx)[:,1]#, num_iteration=model.best_iteration"
   ]
  },
  {
   "cell_type": "code",
   "execution_count": 64,
   "metadata": {},
   "outputs": [
    {
     "name": "stdout",
     "output_type": "stream",
     "text": [
      "10852\n"
     ]
    }
   ],
   "source": [
    "pre=data[data['y']==-1][['ID']]\n",
    "pre['pred']=test_pre\n",
    "pre.to_csv('baseline2.csv',index=False )\n",
    "print(len(pre))"
   ]
  },
  {
   "cell_type": "markdown",
   "metadata": {},
   "source": [
    "## 使用kfolder进行集成"
   ]
  },
  {
   "cell_type": "code",
   "execution_count": 54,
   "metadata": {
    "tags": []
   },
   "outputs": [
    {
     "output_type": "stream",
     "name": "stdout",
     "text": "[    0     1     2 ... 25314 25315 25316]\n"
    }
   ],
   "source": [
    "from sklearn.model_selection import KFold,StratifiedKFold\n",
    "n_splits=5\n",
    "kfold = KFold(n_splits=n_splits, shuffle=True, random_state=42)\n",
    "for train_idx, val_idx in kfold.split(train_x):\n",
    "    print(train_idx)\n",
    "    break"
   ]
  },
  {
   "cell_type": "code",
   "execution_count": 55,
   "metadata": {
    "tags": [
     "outputPrepend"
    ]
   },
   "outputs": [
    {
     "output_type": "display_data",
     "data": {
      "text/plain": "HBox(children=(FloatProgress(value=1.0, bar_style='info', max=1.0), HTML(value='')))",
      "application/vnd.jupyter.widget-view+json": {
       "version_major": 2,
       "version_minor": 0,
       "model_id": "d81a1563d00b4f6bb04d49d63592ed68"
      }
     },
     "metadata": {}
    },
    {
     "output_type": "stream",
     "name": "stdout",
     "text": "id_1's auc: 0.929578\n[260]\ttraining's auc: 0.964669\tvalid_1's auc: 0.929622\n[261]\ttraining's auc: 0.964741\tvalid_1's auc: 0.929617\n[262]\ttraining's auc: 0.964824\tvalid_1's auc: 0.929652\n[263]\ttraining's auc: 0.964899\tvalid_1's auc: 0.92967\n[264]\ttraining's auc: 0.964975\tvalid_1's auc: 0.929676\n[265]\ttraining's auc: 0.965026\tvalid_1's auc: 0.929653\n[266]\ttraining's auc: 0.965099\tvalid_1's auc: 0.929677\n[267]\ttraining's auc: 0.965163\tvalid_1's auc: 0.929672\n[268]\ttraining's auc: 0.965242\tvalid_1's auc: 0.929698\n[269]\ttraining's auc: 0.965322\tvalid_1's auc: 0.929728\n[270]\ttraining's auc: 0.965399\tvalid_1's auc: 0.929701\n[271]\ttraining's auc: 0.965472\tvalid_1's auc: 0.929661\n[272]\ttraining's auc: 0.965558\tvalid_1's auc: 0.929645\n[273]\ttraining's auc: 0.96563\tvalid_1's auc: 0.929655\n[274]\ttraining's auc: 0.965725\tvalid_1's auc: 0.929764\n[275]\ttraining's auc: 0.965783\tvalid_1's auc: 0.929756\n[276]\ttraining's auc: 0.965845\tvalid_1's auc: 0.929731\n[277]\ttraining's auc: 0.965943\tvalid_1's auc: 0.929671\n[278]\ttraining's auc: 0.966049\tvalid_1's auc: 0.929769\n[279]\ttraining's auc: 0.966126\tvalid_1's auc: 0.929773\n[280]\ttraining's auc: 0.966199\tvalid_1's auc: 0.929762\n[281]\ttraining's auc: 0.966282\tvalid_1's auc: 0.929762\n[282]\ttraining's auc: 0.966337\tvalid_1's auc: 0.929792\n[283]\ttraining's auc: 0.966435\tvalid_1's auc: 0.929874\n[284]\ttraining's auc: 0.966491\tvalid_1's auc: 0.929879\n[285]\ttraining's auc: 0.96657\tvalid_1's auc: 0.929881\n[286]\ttraining's auc: 0.966635\tvalid_1's auc: 0.929881\n[287]\ttraining's auc: 0.966687\tvalid_1's auc: 0.92989\n[288]\ttraining's auc: 0.966748\tvalid_1's auc: 0.929865\n[289]\ttraining's auc: 0.966832\tvalid_1's auc: 0.929918\n[290]\ttraining's auc: 0.966902\tvalid_1's auc: 0.929927\n[291]\ttraining's auc: 0.966968\tvalid_1's auc: 0.929938\n[292]\ttraining's auc: 0.967027\tvalid_1's auc: 0.929942\n[293]\ttraining's auc: 0.96711\tvalid_1's auc: 0.929915\n[294]\ttraining's auc: 0.96719\tvalid_1's auc: 0.929959\n[295]\ttraining's auc: 0.967253\tvalid_1's auc: 0.930008\n[296]\ttraining's auc: 0.967307\tvalid_1's auc: 0.930019\n[297]\ttraining's auc: 0.967354\tvalid_1's auc: 0.930035\n[298]\ttraining's auc: 0.967414\tvalid_1's auc: 0.930032\n[299]\ttraining's auc: 0.967496\tvalid_1's auc: 0.930062\n[300]\ttraining's auc: 0.967553\tvalid_1's auc: 0.930051\n[301]\ttraining's auc: 0.967594\tvalid_1's auc: 0.93005\n[302]\ttraining's auc: 0.967653\tvalid_1's auc: 0.930056\n[303]\ttraining's auc: 0.967737\tvalid_1's auc: 0.930072\n[304]\ttraining's auc: 0.967798\tvalid_1's auc: 0.930106\n[305]\ttraining's auc: 0.967869\tvalid_1's auc: 0.930082\n[306]\ttraining's auc: 0.967932\tvalid_1's auc: 0.930107\n[307]\ttraining's auc: 0.967982\tvalid_1's auc: 0.930105\n[308]\ttraining's auc: 0.96806\tvalid_1's auc: 0.930126\n[309]\ttraining's auc: 0.968109\tvalid_1's auc: 0.930149\n[310]\ttraining's auc: 0.968168\tvalid_1's auc: 0.930151\n[311]\ttraining's auc: 0.968235\tvalid_1's auc: 0.930152\n[312]\ttraining's auc: 0.968294\tvalid_1's auc: 0.930143\n[313]\ttraining's auc: 0.968342\tvalid_1's auc: 0.930157\n[314]\ttraining's auc: 0.968421\tvalid_1's auc: 0.930143\n[315]\ttraining's auc: 0.9685\tvalid_1's auc: 0.930131\n[316]\ttraining's auc: 0.968553\tvalid_1's auc: 0.930184\n[317]\ttraining's auc: 0.96864\tvalid_1's auc: 0.930173\n[318]\ttraining's auc: 0.968689\tvalid_1's auc: 0.930159\n[319]\ttraining's auc: 0.968775\tvalid_1's auc: 0.930174\n[320]\ttraining's auc: 0.968822\tvalid_1's auc: 0.930168\n[321]\ttraining's auc: 0.968878\tvalid_1's auc: 0.930143\n[322]\ttraining's auc: 0.968939\tvalid_1's auc: 0.930157\n[323]\ttraining's auc: 0.968993\tvalid_1's auc: 0.930122\n[324]\ttraining's auc: 0.969064\tvalid_1's auc: 0.930148\n[325]\ttraining's auc: 0.969133\tvalid_1's auc: 0.930152\n[326]\ttraining's auc: 0.969172\tvalid_1's auc: 0.930148\n[327]\ttraining's auc: 0.969222\tvalid_1's auc: 0.930149\n[328]\ttraining's auc: 0.969296\tvalid_1's auc: 0.930115\n[329]\ttraining's auc: 0.969376\tvalid_1's auc: 0.930143\n[330]\ttraining's auc: 0.969422\tvalid_1's auc: 0.93016\n[331]\ttraining's auc: 0.969479\tvalid_1's auc: 0.930156\n[332]\ttraining's auc: 0.969536\tvalid_1's auc: 0.930166\n[333]\ttraining's auc: 0.969604\tvalid_1's auc: 0.930189\n[334]\ttraining's auc: 0.969649\tvalid_1's auc: 0.930191\n[335]\ttraining's auc: 0.969708\tvalid_1's auc: 0.930211\n[336]\ttraining's auc: 0.969787\tvalid_1's auc: 0.930203\n[337]\ttraining's auc: 0.969841\tvalid_1's auc: 0.930216\n[338]\ttraining's auc: 0.969886\tvalid_1's auc: 0.930204\n[339]\ttraining's auc: 0.96996\tvalid_1's auc: 0.930225\n[340]\ttraining's auc: 0.970015\tvalid_1's auc: 0.930224\n[341]\ttraining's auc: 0.970068\tvalid_1's auc: 0.930221\n[342]\ttraining's auc: 0.970117\tvalid_1's auc: 0.93025\n[343]\ttraining's auc: 0.970163\tvalid_1's auc: 0.930254\n[344]\ttraining's auc: 0.97022\tvalid_1's auc: 0.930253\n[345]\ttraining's auc: 0.970302\tvalid_1's auc: 0.930318\n[346]\ttraining's auc: 0.970357\tvalid_1's auc: 0.93032\n[347]\ttraining's auc: 0.970407\tvalid_1's auc: 0.930333\n[348]\ttraining's auc: 0.970484\tvalid_1's auc: 0.930283\n[349]\ttraining's auc: 0.970537\tvalid_1's auc: 0.930247\n[350]\ttraining's auc: 0.970616\tvalid_1's auc: 0.930306\n[351]\ttraining's auc: 0.97065\tvalid_1's auc: 0.930314\n[352]\ttraining's auc: 0.970702\tvalid_1's auc: 0.930342\n[353]\ttraining's auc: 0.970751\tvalid_1's auc: 0.930318\n[354]\ttraining's auc: 0.970798\tvalid_1's auc: 0.930297\n[355]\ttraining's auc: 0.970845\tvalid_1's auc: 0.9303\n[356]\ttraining's auc: 0.970903\tvalid_1's auc: 0.93029\n[357]\ttraining's auc: 0.970948\tvalid_1's auc: 0.930277\n[358]\ttraining's auc: 0.970989\tvalid_1's auc: 0.9303\n[359]\ttraining's auc: 0.971038\tvalid_1's auc: 0.930327\n[360]\ttraining's auc: 0.971105\tvalid_1's auc: 0.930339\n[361]\ttraining's auc: 0.971141\tvalid_1's auc: 0.930353\n[362]\ttraining's auc: 0.971228\tvalid_1's auc: 0.93037\n[363]\ttraining's auc: 0.971292\tvalid_1's auc: 0.930365\n[364]\ttraining's auc: 0.971335\tvalid_1's auc: 0.930356\n[365]\ttraining's auc: 0.971425\tvalid_1's auc: 0.930407\n[366]\ttraining's auc: 0.971466\tvalid_1's auc: 0.930411\n[367]\ttraining's auc: 0.971519\tvalid_1's auc: 0.930416\n[368]\ttraining's auc: 0.971605\tvalid_1's auc: 0.930409\n[369]\ttraining's auc: 0.971681\tvalid_1's auc: 0.930397\n[370]\ttraining's auc: 0.971731\tvalid_1's auc: 0.930393\n[371]\ttraining's auc: 0.971792\tvalid_1's auc: 0.930424\n[372]\ttraining's auc: 0.971846\tvalid_1's auc: 0.930446\n[373]\ttraining's auc: 0.971907\tvalid_1's auc: 0.930415\n[374]\ttraining's auc: 0.971959\tvalid_1's auc: 0.930403\n[375]\ttraining's auc: 0.972015\tvalid_1's auc: 0.930417\n[376]\ttraining's auc: 0.972075\tvalid_1's auc: 0.930413\n[377]\ttraining's auc: 0.972135\tvalid_1's auc: 0.930411\n[378]\ttraining's auc: 0.972183\tvalid_1's auc: 0.930416\n[379]\ttraining's auc: 0.972239\tvalid_1's auc: 0.930434\n[380]\ttraining's auc: 0.972319\tvalid_1's auc: 0.930443\n[381]\ttraining's auc: 0.972362\tvalid_1's auc: 0.930425\n[382]\ttraining's auc: 0.972417\tvalid_1's auc: 0.93043\n[383]\ttraining's auc: 0.972483\tvalid_1's auc: 0.930478\n[384]\ttraining's auc: 0.972532\tvalid_1's auc: 0.93051\n[385]\ttraining's auc: 0.972595\tvalid_1's auc: 0.930548\n[386]\ttraining's auc: 0.972636\tvalid_1's auc: 0.930554\n[387]\ttraining's auc: 0.972678\tvalid_1's auc: 0.930556\n[388]\ttraining's auc: 0.972738\tvalid_1's auc: 0.930601\n[389]\ttraining's auc: 0.972785\tvalid_1's auc: 0.930579\n[390]\ttraining's auc: 0.972844\tvalid_1's auc: 0.930571\n[391]\ttraining's auc: 0.972888\tvalid_1's auc: 0.930549\n[392]\ttraining's auc: 0.972935\tvalid_1's auc: 0.93054\n[393]\ttraining's auc: 0.972998\tvalid_1's auc: 0.930539\n[394]\ttraining's auc: 0.97305\tvalid_1's auc: 0.930523\n[395]\ttraining's auc: 0.973101\tvalid_1's auc: 0.930502\n[396]\ttraining's auc: 0.973148\tvalid_1's auc: 0.930502\n[397]\ttraining's auc: 0.973202\tvalid_1's auc: 0.930463\n[398]\ttraining's auc: 0.973259\tvalid_1's auc: 0.930463\n[399]\ttraining's auc: 0.973306\tvalid_1's auc: 0.930494\n[400]\ttraining's auc: 0.973367\tvalid_1's auc: 0.930496\n[401]\ttraining's auc: 0.973382\tvalid_1's auc: 0.930495\n[402]\ttraining's auc: 0.973442\tvalid_1's auc: 0.930502\n[403]\ttraining's auc: 0.97348\tvalid_1's auc: 0.930513\n[404]\ttraining's auc: 0.973539\tvalid_1's auc: 0.93049\n[405]\ttraining's auc: 0.973601\tvalid_1's auc: 0.930493\n[406]\ttraining's auc: 0.973649\tvalid_1's auc: 0.930532\n[407]\ttraining's auc: 0.973688\tvalid_1's auc: 0.93052\n[408]\ttraining's auc: 0.973747\tvalid_1's auc: 0.930524\n[409]\ttraining's auc: 0.973812\tvalid_1's auc: 0.930556\n[410]\ttraining's auc: 0.973862\tvalid_1's auc: 0.93056\n[411]\ttraining's auc: 0.973907\tvalid_1's auc: 0.930534\n[412]\ttraining's auc: 0.973977\tvalid_1's auc: 0.930542\n[413]\ttraining's auc: 0.974025\tvalid_1's auc: 0.9305\n[414]\ttraining's auc: 0.974098\tvalid_1's auc: 0.930495\n[415]\ttraining's auc: 0.974163\tvalid_1's auc: 0.930481\n[416]\ttraining's auc: 0.974211\tvalid_1's auc: 0.930488\n[417]\ttraining's auc: 0.974272\tvalid_1's auc: 0.930506\n[418]\ttraining's auc: 0.974327\tvalid_1's auc: 0.930507\n[419]\ttraining's auc: 0.974381\tvalid_1's auc: 0.93051\n[420]\ttraining's auc: 0.974444\tvalid_1's auc: 0.930479\n[421]\ttraining's auc: 0.974499\tvalid_1's auc: 0.930447\n[422]\ttraining's auc: 0.974529\tvalid_1's auc: 0.930423\n[423]\ttraining's auc: 0.974566\tvalid_1's auc: 0.930391\n[424]\ttraining's auc: 0.974636\tvalid_1's auc: 0.930435\n[425]\ttraining's auc: 0.974682\tvalid_1's auc: 0.930401\n[426]\ttraining's auc: 0.974724\tvalid_1's auc: 0.930381\n[427]\ttraining's auc: 0.974777\tvalid_1's auc: 0.930362\n[428]\ttraining's auc: 0.974826\tvalid_1's auc: 0.930356\n[429]\ttraining's auc: 0.974877\tvalid_1's auc: 0.930389\n[430]\ttraining's auc: 0.97495\tvalid_1's auc: 0.930404\n[431]\ttraining's auc: 0.975014\tvalid_1's auc: 0.930415\n[432]\ttraining's auc: 0.975051\tvalid_1's auc: 0.930422\n[433]\ttraining's auc: 0.975091\tvalid_1's auc: 0.930398\n[434]\ttraining's auc: 0.97514\tvalid_1's auc: 0.930402\n[435]\ttraining's auc: 0.975188\tvalid_1's auc: 0.930373\n[436]\ttraining's auc: 0.975246\tvalid_1's auc: 0.930357\n[437]\ttraining's auc: 0.975282\tvalid_1's auc: 0.930358\n[438]\ttraining's auc: 0.975347\tvalid_1's auc: 0.930369\n[439]\ttraining's auc: 0.975383\tvalid_1's auc: 0.930327\n[440]\ttraining's auc: 0.975429\tvalid_1's auc: 0.930347\n[441]\ttraining's auc: 0.975478\tvalid_1's auc: 0.930395\n[442]\ttraining's auc: 0.97552\tvalid_1's auc: 0.930426\n[443]\ttraining's auc: 0.975568\tvalid_1's auc: 0.930432\n[444]\ttraining's auc: 0.975625\tvalid_1's auc: 0.930443\n[445]\ttraining's auc: 0.97567\tvalid_1's auc: 0.930449\n[446]\ttraining's auc: 0.97572\tvalid_1's auc: 0.930451\n[447]\ttraining's auc: 0.97576\tvalid_1's auc: 0.930442\n[448]\ttraining's auc: 0.975821\tvalid_1's auc: 0.93044\n[449]\ttraining's auc: 0.975865\tvalid_1's auc: 0.930443\n[450]\ttraining's auc: 0.975922\tvalid_1's auc: 0.930431\n[451]\ttraining's auc: 0.975959\tvalid_1's auc: 0.930467\n[452]\ttraining's auc: 0.976022\tvalid_1's auc: 0.93048\n[453]\ttraining's auc: 0.976079\tvalid_1's auc: 0.930491\n[454]\ttraining's auc: 0.97613\tvalid_1's auc: 0.930467\n[455]\ttraining's auc: 0.976162\tvalid_1's auc: 0.930468\n[456]\ttraining's auc: 0.976206\tvalid_1's auc: 0.930488\n[457]\ttraining's auc: 0.976244\tvalid_1's auc: 0.9305\n[458]\ttraining's auc: 0.976283\tvalid_1's auc: 0.930479\n[459]\ttraining's auc: 0.976335\tvalid_1's auc: 0.930516\n[460]\ttraining's auc: 0.97638\tvalid_1's auc: 0.930542\n[461]\ttraining's auc: 0.976436\tvalid_1's auc: 0.930555\n[462]\ttraining's auc: 0.976468\tvalid_1's auc: 0.930558\n[463]\ttraining's auc: 0.976514\tvalid_1's auc: 0.930558\n[464]\ttraining's auc: 0.976553\tvalid_1's auc: 0.930523\n[465]\ttraining's auc: 0.976612\tvalid_1's auc: 0.930529\n[466]\ttraining's auc: 0.976674\tvalid_1's auc: 0.930569\n[467]\ttraining's auc: 0.97672\tvalid_1's auc: 0.930587\n[468]\ttraining's auc: 0.976774\tvalid_1's auc: 0.93057\n[469]\ttraining's auc: 0.976815\tvalid_1's auc: 0.930563\n[470]\ttraining's auc: 0.976854\tvalid_1's auc: 0.930575\n[471]\ttraining's auc: 0.976898\tvalid_1's auc: 0.930602\n[472]\ttraining's auc: 0.976949\tvalid_1's auc: 0.930565\n[473]\ttraining's auc: 0.976983\tvalid_1's auc: 0.930549\n[474]\ttraining's auc: 0.977026\tvalid_1's auc: 0.930542\n[475]\ttraining's auc: 0.977063\tvalid_1's auc: 0.930518\n[476]\ttraining's auc: 0.9771\tvalid_1's auc: 0.930525\n[477]\ttraining's auc: 0.977166\tvalid_1's auc: 0.930544\n[478]\ttraining's auc: 0.977202\tvalid_1's auc: 0.930541\n[479]\ttraining's auc: 0.977239\tvalid_1's auc: 0.93053\n[480]\ttraining's auc: 0.977272\tvalid_1's auc: 0.930532\n[481]\ttraining's auc: 0.97734\tvalid_1's auc: 0.930609\n[482]\ttraining's auc: 0.977397\tvalid_1's auc: 0.930664\n[483]\ttraining's auc: 0.97745\tvalid_1's auc: 0.930684\n[484]\ttraining's auc: 0.977514\tvalid_1's auc: 0.930678\n[485]\ttraining's auc: 0.977565\tvalid_1's auc: 0.930663\n[486]\ttraining's auc: 0.9776\tvalid_1's auc: 0.930665\n[487]\ttraining's auc: 0.977631\tvalid_1's auc: 0.930645\n[488]\ttraining's auc: 0.977678\tvalid_1's auc: 0.930705\n[489]\ttraining's auc: 0.977719\tvalid_1's auc: 0.930685\n[490]\ttraining's auc: 0.977764\tvalid_1's auc: 0.930704\n[491]\ttraining's auc: 0.977798\tvalid_1's auc: 0.930695\n[492]\ttraining's auc: 0.977836\tvalid_1's auc: 0.930677\n[493]\ttraining's auc: 0.977871\tvalid_1's auc: 0.930679\n[494]\ttraining's auc: 0.977921\tvalid_1's auc: 0.9307\n[495]\ttraining's auc: 0.977962\tvalid_1's auc: 0.930696\n[496]\ttraining's auc: 0.978014\tvalid_1's auc: 0.930693\n[497]\ttraining's auc: 0.978051\tvalid_1's auc: 0.930655\n[498]\ttraining's auc: 0.978113\tvalid_1's auc: 0.930637\n[499]\ttraining's auc: 0.97817\tvalid_1's auc: 0.930649\n[500]\ttraining's auc: 0.978214\tvalid_1's auc: 0.930664\n[501]\ttraining's auc: 0.97826\tvalid_1's auc: 0.930686\n[502]\ttraining's auc: 0.978292\tvalid_1's auc: 0.930695\n[503]\ttraining's auc: 0.978327\tvalid_1's auc: 0.930687\n[504]\ttraining's auc: 0.978378\tvalid_1's auc: 0.930705\n[505]\ttraining's auc: 0.978402\tvalid_1's auc: 0.930699\n[506]\ttraining's auc: 0.978451\tvalid_1's auc: 0.93069\n[507]\ttraining's auc: 0.9785\tvalid_1's auc: 0.930695\n[508]\ttraining's auc: 0.978523\tvalid_1's auc: 0.930685\n[509]\ttraining's auc: 0.978569\tvalid_1's auc: 0.930712\n[510]\ttraining's auc: 0.978612\tvalid_1's auc: 0.930719\n[511]\ttraining's auc: 0.978652\tvalid_1's auc: 0.930722\n[512]\ttraining's auc: 0.978698\tvalid_1's auc: 0.930726\n[513]\ttraining's auc: 0.978729\tvalid_1's auc: 0.930719\n[514]\ttraining's auc: 0.97878\tvalid_1's auc: 0.930694\n[515]\ttraining's auc: 0.978813\tvalid_1's auc: 0.930675\n[516]\ttraining's auc: 0.978863\tvalid_1's auc: 0.930665\n[517]\ttraining's auc: 0.978897\tvalid_1's auc: 0.930664\n[518]\ttraining's auc: 0.978941\tvalid_1's auc: 0.930666\n[519]\ttraining's auc: 0.979003\tvalid_1's auc: 0.930703\n[520]\ttraining's auc: 0.979048\tvalid_1's auc: 0.930706\n[521]\ttraining's auc: 0.979096\tvalid_1's auc: 0.930731\n[522]\ttraining's auc: 0.979127\tvalid_1's auc: 0.930771\n[523]\ttraining's auc: 0.979167\tvalid_1's auc: 0.930743\n[524]\ttraining's auc: 0.979215\tvalid_1's auc: 0.930731\n[525]\ttraining's auc: 0.979247\tvalid_1's auc: 0.930712\n[526]\ttraining's auc: 0.979294\tvalid_1's auc: 0.930694\n[527]\ttraining's auc: 0.979343\tvalid_1's auc: 0.930687\n[528]\ttraining's auc: 0.979378\tvalid_1's auc: 0.930679\n[529]\ttraining's auc: 0.979419\tvalid_1's auc: 0.930682\n[530]\ttraining's auc: 0.979447\tvalid_1's auc: 0.93067\n[531]\ttraining's auc: 0.979486\tvalid_1's auc: 0.930698\n[532]\ttraining's auc: 0.979514\tvalid_1's auc: 0.930655\n[533]\ttraining's auc: 0.979559\tvalid_1's auc: 0.930636\n[534]\ttraining's auc: 0.979615\tvalid_1's auc: 0.930674\n[535]\ttraining's auc: 0.979647\tvalid_1's auc: 0.930673\n[536]\ttraining's auc: 0.979677\tvalid_1's auc: 0.930678\n[537]\ttraining's auc: 0.979701\tvalid_1's auc: 0.930632\n[538]\ttraining's auc: 0.979758\tvalid_1's auc: 0.930602\n[539]\ttraining's auc: 0.979805\tvalid_1's auc: 0.930583\n[540]\ttraining's auc: 0.979853\tvalid_1's auc: 0.930628\n[541]\ttraining's auc: 0.979875\tvalid_1's auc: 0.930621\n[542]\ttraining's auc: 0.979908\tvalid_1's auc: 0.930609\n[543]\ttraining's auc: 0.979933\tvalid_1's auc: 0.93059\n[544]\ttraining's auc: 0.979986\tvalid_1's auc: 0.93059\n[545]\ttraining's auc: 0.980032\tvalid_1's auc: 0.93057\n[546]\ttraining's auc: 0.980069\tvalid_1's auc: 0.930562\n[547]\ttraining's auc: 0.980111\tvalid_1's auc: 0.930539\n[548]\ttraining's auc: 0.980151\tvalid_1's auc: 0.930499\n[549]\ttraining's auc: 0.980178\tvalid_1's auc: 0.930486\n[550]\ttraining's auc: 0.98023\tvalid_1's auc: 0.930494\n[551]\ttraining's auc: 0.980277\tvalid_1's auc: 0.930465\n[552]\ttraining's auc: 0.980324\tvalid_1's auc: 0.930464\n[553]\ttraining's auc: 0.980355\tvalid_1's auc: 0.930485\n[554]\ttraining's auc: 0.980387\tvalid_1's auc: 0.930459\n[555]\ttraining's auc: 0.980419\tvalid_1's auc: 0.930439\n[556]\ttraining's auc: 0.980469\tvalid_1's auc: 0.930463\n[557]\ttraining's auc: 0.98052\tvalid_1's auc: 0.930467\n[558]\ttraining's auc: 0.980559\tvalid_1's auc: 0.930492\n[559]\ttraining's auc: 0.98058\tvalid_1's auc: 0.930495\n[560]\ttraining's auc: 0.980624\tvalid_1's auc: 0.930501\n[561]\ttraining's auc: 0.980665\tvalid_1's auc: 0.930527\n[562]\ttraining's auc: 0.980709\tvalid_1's auc: 0.930504\n[563]\ttraining's auc: 0.980744\tvalid_1's auc: 0.930516\n[564]\ttraining's auc: 0.980785\tvalid_1's auc: 0.930499\n[565]\ttraining's auc: 0.980823\tvalid_1's auc: 0.930513\n[566]\ttraining's auc: 0.980855\tvalid_1's auc: 0.93053\n[567]\ttraining's auc: 0.980877\tvalid_1's auc: 0.930509\n[568]\ttraining's auc: 0.980917\tvalid_1's auc: 0.930525\n[569]\ttraining's auc: 0.980961\tvalid_1's auc: 0.930521\n[570]\ttraining's auc: 0.980992\tvalid_1's auc: 0.930512\n[571]\ttraining's auc: 0.981036\tvalid_1's auc: 0.930498\n[572]\ttraining's auc: 0.981079\tvalid_1's auc: 0.930491\n[573]\ttraining's auc: 0.981118\tvalid_1's auc: 0.930483\n[574]\ttraining's auc: 0.981154\tvalid_1's auc: 0.930492\n[575]\ttraining's auc: 0.981182\tvalid_1's auc: 0.930516\n[576]\ttraining's auc: 0.981227\tvalid_1's auc: 0.930521\n[577]\ttraining's auc: 0.981262\tvalid_1's auc: 0.930493\n[578]\ttraining's auc: 0.981297\tvalid_1's auc: 0.930493\n[579]\ttraining's auc: 0.981335\tvalid_1's auc: 0.930519\n[580]\ttraining's auc: 0.981375\tvalid_1's auc: 0.930531\n[581]\ttraining's auc: 0.981388\tvalid_1's auc: 0.930503\n[582]\ttraining's auc: 0.981434\tvalid_1's auc: 0.930494\n[583]\ttraining's auc: 0.981478\tvalid_1's auc: 0.930513\n[584]\ttraining's auc: 0.981527\tvalid_1's auc: 0.930498\n[585]\ttraining's auc: 0.981559\tvalid_1's auc: 0.930522\n[586]\ttraining's auc: 0.981576\tvalid_1's auc: 0.930529\n[587]\ttraining's auc: 0.981633\tvalid_1's auc: 0.930504\n[588]\ttraining's auc: 0.981668\tvalid_1's auc: 0.93051\n[589]\ttraining's auc: 0.981709\tvalid_1's auc: 0.930479\n[590]\ttraining's auc: 0.981743\tvalid_1's auc: 0.930502\n[591]\ttraining's auc: 0.981771\tvalid_1's auc: 0.930499\n[592]\ttraining's auc: 0.981815\tvalid_1's auc: 0.930553\n[593]\ttraining's auc: 0.981851\tvalid_1's auc: 0.930593\n[594]\ttraining's auc: 0.981869\tvalid_1's auc: 0.930596\n[595]\ttraining's auc: 0.981903\tvalid_1's auc: 0.930589\n[596]\ttraining's auc: 0.981935\tvalid_1's auc: 0.930569\n[597]\ttraining's auc: 0.981978\tvalid_1's auc: 0.930565\n[598]\ttraining's auc: 0.982026\tvalid_1's auc: 0.930559\n[599]\ttraining's auc: 0.982062\tvalid_1's auc: 0.930491\n[600]\ttraining's auc: 0.982112\tvalid_1's auc: 0.930545\n[601]\ttraining's auc: 0.982166\tvalid_1's auc: 0.930534\n[602]\ttraining's auc: 0.982202\tvalid_1's auc: 0.930519\n[603]\ttraining's auc: 0.982236\tvalid_1's auc: 0.930513\n[604]\ttraining's auc: 0.982278\tvalid_1's auc: 0.930523\n[605]\ttraining's auc: 0.982315\tvalid_1's auc: 0.930524\n[606]\ttraining's auc: 0.982343\tvalid_1's auc: 0.930538\n[607]\ttraining's auc: 0.98238\tvalid_1's auc: 0.930531\n[608]\ttraining's auc: 0.98242\tvalid_1's auc: 0.930506\n[609]\ttraining's auc: 0.982446\tvalid_1's auc: 0.930506\n[610]\ttraining's auc: 0.982484\tvalid_1's auc: 0.930504\n[611]\ttraining's auc: 0.982526\tvalid_1's auc: 0.9305\n[612]\ttraining's auc: 0.98255\tvalid_1's auc: 0.930467\n[613]\ttraining's auc: 0.982584\tvalid_1's auc: 0.930474\n[614]\ttraining's auc: 0.982602\tvalid_1's auc: 0.930479\n[615]\ttraining's auc: 0.982631\tvalid_1's auc: 0.930479\n[616]\ttraining's auc: 0.982662\tvalid_1's auc: 0.930478\n[617]\ttraining's auc: 0.982705\tvalid_1's auc: 0.930506\n[618]\ttraining's auc: 0.982731\tvalid_1's auc: 0.930518\n[619]\ttraining's auc: 0.982765\tvalid_1's auc: 0.930538\n[620]\ttraining's auc: 0.982793\tvalid_1's auc: 0.930541\n[621]\ttraining's auc: 0.982834\tvalid_1's auc: 0.930547\n[622]\ttraining's auc: 0.982888\tvalid_1's auc: 0.930559\nEarly stopping, best iteration is:\n[522]\ttraining's auc: 0.979127\tvalid_1's auc: 0.930771\n\n"
    }
   ],
   "source": [
    "#5折交叉验证\n",
    "from sklearn.model_selection import KFold,StratifiedKFold\n",
    "n_splits=5\n",
    "kfold = KFold(n_splits=n_splits, shuffle=True, random_state=42)\n",
    "\n",
    "\n",
    "train_x = data[data['y']!=-1][feats]\n",
    "train_y = data[data['y']!=-1]['y']\n",
    "\n",
    "\n",
    "res=data[data['y']==-1][['ID']]\n",
    "res['pred'] = 0\n",
    "\n",
    "\n",
    "test_x= data[data['y']==-1][feats]\n",
    "\n",
    "for train_idx, val_idx in tqdm_notebook(kfold.split(train_x)):\n",
    "    model.random_state = model.random_state + 1\n",
    "    train_x1 = train_x.loc[train_idx]\n",
    "    train_y1 = train_y.loc[train_idx]\n",
    "    valid_x1 = train_x.loc[val_idx]\n",
    "    valid_y1 = train_y.loc[val_idx]\n",
    "    #注意此处可以显式指定 categorical_feature特征\n",
    "    model.fit(train_x1, train_y1,eval_set=[(train_x1, train_y1),(valid_x1, valid_y1)],categorical_feature=cat_col,eval_metric='auc',early_stopping_rounds=100)\n",
    "    res['pred'] += model.predict_proba(test_x)[:,1]\n",
    "\n",
    "res['pred'] = res['pred']/n_splits\n",
    "res.to_csv('./submission5_fold.csv', index=False)"
   ]
  }
 ],
 "metadata": {
  "kernelspec": {
   "display_name": "Python 3.7.0 64-bit ('base': conda)",
   "language": "python",
   "name": "python37064bitbasecondaf53a82d0388c4e1980d5990867e8724b"
  },
  "language_info": {
   "codemirror_mode": {
    "name": "ipython",
    "version": 3
   },
   "file_extension": ".py",
   "mimetype": "text/x-python",
   "name": "python",
   "nbconvert_exporter": "python",
   "pygments_lexer": "ipython3",
   "version": "3.7.0-final"
  },
  "nbTranslate": {
   "displayLangs": [
    "*"
   ],
   "hotkey": "alt-t",
   "langInMainMenu": true,
   "sourceLang": "en",
   "targetLang": "fr",
   "useGoogleTranslate": true
  },
  "toc": {
   "base_numbering": 1,
   "nav_menu": {},
   "number_sections": true,
   "sideBar": true,
   "skip_h1_title": false,
   "title_cell": "Table of Contents",
   "title_sidebar": "Contents",
   "toc_cell": false,
   "toc_position": {},
   "toc_section_display": true,
   "toc_window_display": false
  }
 },
 "nbformat": 4,
 "nbformat_minor": 2
}
